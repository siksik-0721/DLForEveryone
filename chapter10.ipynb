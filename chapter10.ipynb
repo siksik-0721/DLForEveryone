{
 "cells": [
  {
   "cell_type": "markdown",
   "metadata": {},
   "source": [
    "# 10장 딥러닝 모델 설계하기"
   ]
  },
  {
   "cell_type": "markdown",
   "metadata": {},
   "source": [
    "## 1. 모델의 정의\n",
    "\n",
    "- `model = Sequential()`\n",
    "    - 딥러닝의 구조를 짜고 층을 설정하는 부분\n",
    "- `model.compile()`\n",
    "    - 모델을 컴퓨터가 알아들을 수 있게끔 컴파일하는 부분\n",
    "- `model.fit()`\n",
    "    - 모델을 실제로 수행하는 부분"
   ]
  },
  {
   "cell_type": "markdown",
   "metadata": {},
   "source": [
    "## 2. 입력층, 은닉층, 출력층\n",
    "\n",
    "```\n",
    "model = Sequential()\n",
    "model.add(Dense(30, input_dim=16, activation=\"relu\"))\n",
    "model.add(Dense(1, activation=\"sigmoid\"))\n",
    "```\n",
    "\n",
    "- 딥러닝이란 입력층과 출력층 사이에 은닉층들을 차곡차곡 추가하면서 학습\n",
    "    - `Sequential()`로 model을 선언하고 `model.add()`로 새로운 층을 추가\n",
    "- 각각의 층은 `Dense()`로 구체적인 구조를 결정\n",
    "    - 첫 번째 인자는 노드의 숫자\n",
    "    - `input_dim`은 입력 데이터의 갯수\n",
    "        - `keras`는 입력층을 따로 만들지 않고 첫 번째 은닉층에 `input_dim`을 넣어 은닉층 + 입력층의 역할\n",
    "    - `Dense(30, input_dim=16)`은 입력 데이터에서 값을 16개 받아 은닉층의 노드 30개로 보낸다는 뜻\n",
    "    - `Dense(1, activation=\"sigmoid\")`는 최종 출력 값을 하나로 보여주어야 하므로 시그모이드 활성화 함수를 사용한 1개 노드로 정의"
   ]
  },
  {
   "cell_type": "markdown",
   "metadata": {},
   "source": [
    "## 3. 모델 컴파일\n",
    "\n",
    "`model.compile(loss=\"binary_crossentropy\", optimizer=\"adam\", metrics=[\"accuracy\"])`\n",
    "\n",
    "- `loss`는 오차 함수를 사용할지 정의\n",
    "    - 평균 제곱 계열(선형 회귀 모델)\n",
    "        - 평균 제곱 오차(mean_squared_error)\n",
    "        - 평균 절대 오차(mean_absolute_error)\n",
    "        - 평균 절대 백분율 오차(mean_absolute_percentage_error)\n",
    "        - 평균 제곱 로그 오차(mean_squared_logarithmic_error)\n",
    "    - 교차 엔트로피 계열(다항 분류, 이항 분류)\n",
    "        - 범주형 교차 엔트로피(categorical_crossentropy)\n",
    "        - 이항 교차 엔트로피(binary_crossentropy)\n",
    "- `optimizer`는 최적화를 위한 경사 하강법 방식을 정의\n",
    "- `metrics`는 모델 수행의 결과를 설정\n",
    "    - `accuracy`(학습셋에 대한 정확도), `loss`(학습셋에 대한 손실 값)\n",
    "    - `val_acc`, `val_loss` (테스트셋에 대한 정확도, 손실 값)"
   ]
  },
  {
   "cell_type": "markdown",
   "metadata": {},
   "source": [
    "## 4. 모델 실행하기\n",
    "\n",
    "`history = model.fit(X, y, epochs=5, batch_size=16)`\n",
    "\n",
    "- `epochs`는 학습 프로세스가 몇 번 반복 실행될지\n",
    "    - 모든 샘플에 대해 한 번 학습 프로세스가 실행되는 것이 1 epoch\n",
    "- `batch_size`는 샘플을 한 번에 몇 개씩 처리할지\n",
    "    - `batch_size=16`은 전체 샘플 중 16개씩 끊어서 처리하라는 의미\n",
    "    - `batch_size`가 너무 크면 학습 속도가 느려지고, 너무 작으면 각 실행의 편차가 생겨 결과가 불안정할 수 있음"
   ]
  }
 ],
 "metadata": {
  "language_info": {
   "name": "python"
  }
 },
 "nbformat": 4,
 "nbformat_minor": 2
}
