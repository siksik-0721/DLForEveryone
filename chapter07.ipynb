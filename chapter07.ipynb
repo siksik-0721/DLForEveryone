{
 "cells": [
  {
   "cell_type": "markdown",
   "metadata": {},
   "source": [
    "# 7장 퍼셉트론과 인공지능의 시작"
   ]
  },
  {
   "cell_type": "markdown",
   "metadata": {},
   "source": [
    "## 1. 인공지능의 시작을 알린 퍼셉트론\n",
    "\n",
    "- 뉴런과 뉴런 사이에 시냅스라는 연결 부위 존재\n",
    "    - 신경 말단에서 자극을 받으면 시냅스에서 화학 물질이 나와 전위 변화 발생\n",
    "    - 전위가 임계 값을 넘으면 다음 뉴런으로 신호를 전달\n",
    "    - 임계 값을 넘지 못하면 신호를 전달하지 않음\n",
    "- 인공 신경망(Artificial Neural Network): 인간의 뉴런처럼 기준에 따라 출력을 결정\n",
    "    - 퍼셉트론(Perceptron): 여러 입력 값에 가중치를 조절하여 -1 혹은 1 출력\n",
    "    - 아달라인(Adaline): 퍼셉트론에 경사 하강법을 도입해 오차를 최소화\n",
    "        - 아달라인의 활성화 함수를 시그모이드로 사용한 것이 로지스틱 회귀"
   ]
  },
  {
   "attachments": {
    "image-2.png": {
     "image/png": "[encoded data removed]"
    }
   },
   "cell_type": "markdown",
   "metadata": {},
   "source": [
    "## 2. 퍼셉트론의 과제\n",
    "\n",
    "- 퍼셉트론, 아달라인의 한계\n",
    "    - ![image-2.png](attachment:image-2.png)\n",
    "    - 검은 점과 흰 점을 구분하는 직선 하나를 그을 수 없음\n",
    "    - 퍼셉트론이나 아달라인은 2차원 평면에 직선을 하나 그어 경계를 만드는 것만 가능\n",
    "    - 위의 경우는 하나의 직선으로 완벽하게 검은 점과 흰 점을 구분할 수 없음"
   ]
  },
  {
   "cell_type": "markdown",
   "metadata": {},
   "source": [
    "## 3. XOR 문제\n",
    "\n",
    "- XOR(eXclusive OR, 배타적 논리합): 두 입력값 중 하나만 1이어야 1을 출력\n",
    "    - AND(논리곱), OR(논리합)은 하나의 직선으로 분리가 가능\n",
    "    - XOR은 하나의 직선으로 분리가 불가능\n",
    "- 다층 퍼셉트론(Multilayer Perceptron)과 오차 역전파(Back propagation)가 개발되면서 해결"
   ]
  }
 ],
 "metadata": {
  "language_info": {
   "name": "python"
  }
 },
 "nbformat": 4,
 "nbformat_minor": 2
}
