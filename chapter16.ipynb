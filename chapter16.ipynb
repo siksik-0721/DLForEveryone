{
 "cells": [
  {
   "cell_type": "markdown",
   "metadata": {},
   "source": [
    "# 16장 이미지 인식의 꽃, 컨볼루션 신경망(CNN)"
   ]
  },
  {
   "cell_type": "markdown",
   "metadata": {},
   "source": [
    "## 1. 이미지를 인식하는 원리"
   ]
  },
  {
   "cell_type": "code",
   "execution_count": 1,
   "metadata": {},
   "outputs": [],
   "source": [
    "from tensorflow.keras.datasets import mnist"
   ]
  },
  {
   "cell_type": "code",
   "execution_count": 2,
   "metadata": {},
   "outputs": [],
   "source": [
    "# MNIST 데이터셋을 불러와 학습셋과 테스트셋으로 저장합니다.\n",
    "(X_train, y_train), (X_test, y_test) = mnist.load_data()"
   ]
  },
  {
   "cell_type": "code",
   "execution_count": 3,
   "metadata": {},
   "outputs": [
    {
     "name": "stdout",
     "output_type": "stream",
     "text": [
      "학습셋 이미지 수: 60000개\n",
      "테스트셋 이미지 수: 10000개\n"
     ]
    }
   ],
   "source": [
    "# 학습셋과 테스트셋이 각각 몇 개의 이미지로 되어 있는지 확인합니다.\n",
    "print(\"학습셋 이미지 수: %d개\" % (X_train.shape[0]))\n",
    "print(\"테스트셋 이미지 수: %d개\" % (X_test.shape[0]))"
   ]
  },
  {
   "cell_type": "code",
   "execution_count": 4,
   "metadata": {},
   "outputs": [
    {
     "data": {
      "image/png": "[encoded data removed]",
      "text/plain": [
       "<Figure size 640x480 with 1 Axes>"
      ]
     },
     "metadata": {},
     "output_type": "display_data"
    }
   ],
   "source": [
    "import matplotlib.pyplot as plt\n",
    "\n",
    "# 첫 번째 이미지를 확인해 봅시다.\n",
    "plt.imshow(X_train[0], cmap=\"Greys\")\n",
    "plt.show()"
   ]
  },
  {
   "cell_type": "code",
   "execution_count": 5,
   "metadata": {},
   "outputs": [
    {
     "name": "stdout",
     "output_type": "stream",
     "text": [
      "0  0  0  0  0  0  0  0  0  0  0  0  0  0  0  0  0  0  0  0  0  0  0  0  0  0  0  0  \n",
      "0  0  0  0  0  0  0  0  0  0  0  0  0  0  0  0  0  0  0  0  0  0  0  0  0  0  0  0  \n",
      "0  0  0  0  0  0  0  0  0  0  0  0  0  0  0  0  0  0  0  0  0  0  0  0  0  0  0  0  \n",
      "0  0  0  0  0  0  0  0  0  0  0  0  0  0  0  0  0  0  0  0  0  0  0  0  0  0  0  0  \n",
      "0  0  0  0  0  0  0  0  0  0  0  0  0  0  0  0  0  0  0  0  0  0  0  0  0  0  0  0  \n",
      "0  0  0  0  0  0  0  0  0  0  0  0  3  18 18 18 12613617526 1662552471270  0  0  0  \n",
      "0  0  0  0  0  0  0  0  30 36 94 15417025325325325325322517225324219564 0  0  0  0  \n",
      "0  0  0  0  0  0  0  49 23825325325325325325325325325193 82 82 56 39 0  0  0  0  0  \n",
      "0  0  0  0  0  0  0  18 2192532532532532531981822472410  0  0  0  0  0  0  0  0  0  \n",
      "0  0  0  0  0  0  0  0  80 15610725325320511 0  43 1540  0  0  0  0  0  0  0  0  0  \n",
      "0  0  0  0  0  0  0  0  0  14 1  15425390 0  0  0  0  0  0  0  0  0  0  0  0  0  0  \n",
      "0  0  0  0  0  0  0  0  0  0  0  1392531902  0  0  0  0  0  0  0  0  0  0  0  0  0  \n",
      "0  0  0  0  0  0  0  0  0  0  0  11 19025370 0  0  0  0  0  0  0  0  0  0  0  0  0  \n",
      "0  0  0  0  0  0  0  0  0  0  0  0  35 2412251601081  0  0  0  0  0  0  0  0  0  0  \n",
      "0  0  0  0  0  0  0  0  0  0  0  0  0  81 24025325311925 0  0  0  0  0  0  0  0  0  \n",
      "0  0  0  0  0  0  0  0  0  0  0  0  0  0  45 18625325315027 0  0  0  0  0  0  0  0  \n",
      "0  0  0  0  0  0  0  0  0  0  0  0  0  0  0  16 93 2522531870  0  0  0  0  0  0  0  \n",
      "0  0  0  0  0  0  0  0  0  0  0  0  0  0  0  0  0  24925324964 0  0  0  0  0  0  0  \n",
      "0  0  0  0  0  0  0  0  0  0  0  0  0  0  46 1301832532532072  0  0  0  0  0  0  0  \n",
      "0  0  0  0  0  0  0  0  0  0  0  0  39 1482292532532532501820  0  0  0  0  0  0  0  \n",
      "0  0  0  0  0  0  0  0  0  0  24 11422125325325325320178 0  0  0  0  0  0  0  0  0  \n",
      "0  0  0  0  0  0  0  0  23 66 21325325325325319881 2  0  0  0  0  0  0  0  0  0  0  \n",
      "0  0  0  0  0  0  18 17121925325325325319580 9  0  0  0  0  0  0  0  0  0  0  0  0  \n",
      "0  0  0  0  55 17222625325325325324413311 0  0  0  0  0  0  0  0  0  0  0  0  0  0  \n",
      "0  0  0  0  13625325325321213513216 0  0  0  0  0  0  0  0  0  0  0  0  0  0  0  0  \n",
      "0  0  0  0  0  0  0  0  0  0  0  0  0  0  0  0  0  0  0  0  0  0  0  0  0  0  0  0  \n",
      "0  0  0  0  0  0  0  0  0  0  0  0  0  0  0  0  0  0  0  0  0  0  0  0  0  0  0  0  \n",
      "0  0  0  0  0  0  0  0  0  0  0  0  0  0  0  0  0  0  0  0  0  0  0  0  0  0  0  0  \n"
     ]
    }
   ],
   "source": [
    "import sys\n",
    "\n",
    "# 이미지가 인식되는 원리를 알아봅시다.\n",
    "for x in X_train[0]:\n",
    "    for i in x:\n",
    "        sys.stdout.write(\"%-3s\" % i)\n",
    "    sys.stdout.write(\"\\n\")"
   ]
  },
  {
   "cell_type": "code",
   "execution_count": 6,
   "metadata": {},
   "outputs": [],
   "source": [
    "# 차원 변환 과정을 실습해 봅니다.\n",
    "X_train = X_train.reshape(X_train.shape[0], 784)\n",
    "X_train = X_train.astype(\"float64\")\n",
    "X_train = X_train / 255\n",
    "\n",
    "X_test = X_test.reshape(X_test.shape[0], 784).astype(\"float64\") / 255"
   ]
  },
  {
   "cell_type": "code",
   "execution_count": 7,
   "metadata": {},
   "outputs": [
    {
     "name": "stdout",
     "output_type": "stream",
     "text": [
      "class : 5\n"
     ]
    }
   ],
   "source": [
    "# 클래스 값을 확인해 봅니다.\n",
    "print(\"class : %d\" % (y_train[0]))"
   ]
  },
  {
   "cell_type": "code",
   "execution_count": 8,
   "metadata": {},
   "outputs": [
    {
     "name": "stdout",
     "output_type": "stream",
     "text": [
      "[0. 0. 0. 0. 0. 1. 0. 0. 0. 0.]\n"
     ]
    }
   ],
   "source": [
    "from tensorflow.keras.utils import to_categorical\n",
    "\n",
    "# 바이너리화 과정을 실습해 봅니다.\n",
    "y_train = to_categorical(y_train, 10)\n",
    "y_test = to_categorical(y_test, 10)\n",
    "\n",
    "print(y_train[0])"
   ]
  },
  {
   "cell_type": "markdown",
   "metadata": {},
   "source": [
    "## 2. 딥러닝 기본 프레임 만들기"
   ]
  },
  {
   "cell_type": "code",
   "execution_count": 9,
   "metadata": {},
   "outputs": [
    {
     "name": "stderr",
     "output_type": "stream",
     "text": [
      "c:\\Users\\Hyeonsik\\AppData\\Local\\Programs\\Python\\Python312\\Lib\\site-packages\\keras\\src\\layers\\core\\dense.py:87: UserWarning: Do not pass an `input_shape`/`input_dim` argument to a layer. When using Sequential models, prefer using an `Input(shape)` object as the first layer in the model instead.\n",
      "  super().__init__(activity_regularizer=activity_regularizer, **kwargs)\n"
     ]
    },
    {
     "data": {
      "text/html": [
       "<pre style=\"white-space:pre;overflow-x:auto;line-height:normal;font-family:Menlo,'DejaVu Sans Mono',consolas,'Courier New',monospace\"><span style=\"font-weight: bold\">Model: \"sequential\"</span>\n",
       "</pre>\n"
      ],
      "text/plain": [
       "\u001b[1mModel: \"sequential\"\u001b[0m\n"
      ]
     },
     "metadata": {},
     "output_type": "display_data"
    },
    {
     "data": {
      "text/html": [
       "<pre style=\"white-space:pre;overflow-x:auto;line-height:normal;font-family:Menlo,'DejaVu Sans Mono',consolas,'Courier New',monospace\">┏━━━━━━━━━━━━━━━━━━━━━━━━━━━━━━━━━┳━━━━━━━━━━━━━━━━━━━━━━━━┳━━━━━━━━━━━━━━━┓\n",
       "┃<span style=\"font-weight: bold\"> Layer (type)                    </span>┃<span style=\"font-weight: bold\"> Output Shape           </span>┃<span style=\"font-weight: bold\">       Param # </span>┃\n",
       "┡━━━━━━━━━━━━━━━━━━━━━━━━━━━━━━━━━╇━━━━━━━━━━━━━━━━━━━━━━━━╇━━━━━━━━━━━━━━━┩\n",
       "│ dense (<span style=\"color: #0087ff; text-decoration-color: #0087ff\">Dense</span>)                   │ (<span style=\"color: #00d7ff; text-decoration-color: #00d7ff\">None</span>, <span style=\"color: #00af00; text-decoration-color: #00af00\">512</span>)            │       <span style=\"color: #00af00; text-decoration-color: #00af00\">401,920</span> │\n",
       "├─────────────────────────────────┼────────────────────────┼───────────────┤\n",
       "│ dense_1 (<span style=\"color: #0087ff; text-decoration-color: #0087ff\">Dense</span>)                 │ (<span style=\"color: #00d7ff; text-decoration-color: #00d7ff\">None</span>, <span style=\"color: #00af00; text-decoration-color: #00af00\">10</span>)             │         <span style=\"color: #00af00; text-decoration-color: #00af00\">5,130</span> │\n",
       "└─────────────────────────────────┴────────────────────────┴───────────────┘\n",
       "</pre>\n"
      ],
      "text/plain": [
       "┏━━━━━━━━━━━━━━━━━━━━━━━━━━━━━━━━━┳━━━━━━━━━━━━━━━━━━━━━━━━┳━━━━━━━━━━━━━━━┓\n",
       "┃\u001b[1m \u001b[0m\u001b[1mLayer (type)                   \u001b[0m\u001b[1m \u001b[0m┃\u001b[1m \u001b[0m\u001b[1mOutput Shape          \u001b[0m\u001b[1m \u001b[0m┃\u001b[1m \u001b[0m\u001b[1m      Param #\u001b[0m\u001b[1m \u001b[0m┃\n",
       "┡━━━━━━━━━━━━━━━━━━━━━━━━━━━━━━━━━╇━━━━━━━━━━━━━━━━━━━━━━━━╇━━━━━━━━━━━━━━━┩\n",
       "│ dense (\u001b[38;5;33mDense\u001b[0m)                   │ (\u001b[38;5;45mNone\u001b[0m, \u001b[38;5;34m512\u001b[0m)            │       \u001b[38;5;34m401,920\u001b[0m │\n",
       "├─────────────────────────────────┼────────────────────────┼───────────────┤\n",
       "│ dense_1 (\u001b[38;5;33mDense\u001b[0m)                 │ (\u001b[38;5;45mNone\u001b[0m, \u001b[38;5;34m10\u001b[0m)             │         \u001b[38;5;34m5,130\u001b[0m │\n",
       "└─────────────────────────────────┴────────────────────────┴───────────────┘\n"
      ]
     },
     "metadata": {},
     "output_type": "display_data"
    },
    {
     "data": {
      "text/html": [
       "<pre style=\"white-space:pre;overflow-x:auto;line-height:normal;font-family:Menlo,'DejaVu Sans Mono',consolas,'Courier New',monospace\"><span style=\"font-weight: bold\"> Total params: </span><span style=\"color: #00af00; text-decoration-color: #00af00\">407,050</span> (1.55 MB)\n",
       "</pre>\n"
      ],
      "text/plain": [
       "\u001b[1m Total params: \u001b[0m\u001b[38;5;34m407,050\u001b[0m (1.55 MB)\n"
      ]
     },
     "metadata": {},
     "output_type": "display_data"
    },
    {
     "data": {
      "text/html": [
       "<pre style=\"white-space:pre;overflow-x:auto;line-height:normal;font-family:Menlo,'DejaVu Sans Mono',consolas,'Courier New',monospace\"><span style=\"font-weight: bold\"> Trainable params: </span><span style=\"color: #00af00; text-decoration-color: #00af00\">407,050</span> (1.55 MB)\n",
       "</pre>\n"
      ],
      "text/plain": [
       "\u001b[1m Trainable params: \u001b[0m\u001b[38;5;34m407,050\u001b[0m (1.55 MB)\n"
      ]
     },
     "metadata": {},
     "output_type": "display_data"
    },
    {
     "data": {
      "text/html": [
       "<pre style=\"white-space:pre;overflow-x:auto;line-height:normal;font-family:Menlo,'DejaVu Sans Mono',consolas,'Courier New',monospace\"><span style=\"font-weight: bold\"> Non-trainable params: </span><span style=\"color: #00af00; text-decoration-color: #00af00\">0</span> (0.00 B)\n",
       "</pre>\n"
      ],
      "text/plain": [
       "\u001b[1m Non-trainable params: \u001b[0m\u001b[38;5;34m0\u001b[0m (0.00 B)\n"
      ]
     },
     "metadata": {},
     "output_type": "display_data"
    }
   ],
   "source": [
    "from tensorflow.keras.models import Sequential\n",
    "from tensorflow.keras.layers import Dense\n",
    "\n",
    "# 모델 구조를 설정합니다.\n",
    "model = Sequential()\n",
    "model.add(Dense(512, input_dim=784, activation=\"relu\"))\n",
    "model.add(Dense(10, activation=\"softmax\"))\n",
    "model.summary()\n",
    "\n",
    "# 모델 실행 환경을 설정합니다.\n",
    "model.compile(loss=\"categorical_crossentropy\", optimizer=\"adam\", metrics=[\"accuracy\"])"
   ]
  },
  {
   "cell_type": "code",
   "execution_count": 10,
   "metadata": {},
   "outputs": [],
   "source": [
    "from tensorflow.keras.callbacks import ModelCheckpoint, EarlyStopping\n",
    "\n",
    "# 모델 최적화를 위한 설정 구간입니다.\n",
    "modelpath = \"./data/model/MNIST_MLP.keras\"\n",
    "checkpointer = ModelCheckpoint(\n",
    "    filepath=modelpath, monitor=\"val_loss\", verbose=1, save_best_only=True\n",
    ")\n",
    "early_stopping_callback = EarlyStopping(monitor=\"val_loss\", patience=10)"
   ]
  },
  {
   "cell_type": "code",
   "execution_count": 11,
   "metadata": {},
   "outputs": [
    {
     "name": "stdout",
     "output_type": "stream",
     "text": [
      "\n",
      "Epoch 1: val_loss improved from inf to 0.18906, saving model to ./data/model/MNIST_MLP.keras\n",
      "\n",
      "Epoch 2: val_loss improved from 0.18906 to 0.13660, saving model to ./data/model/MNIST_MLP.keras\n",
      "\n",
      "Epoch 3: val_loss improved from 0.13660 to 0.11513, saving model to ./data/model/MNIST_MLP.keras\n",
      "\n",
      "Epoch 4: val_loss improved from 0.11513 to 0.10035, saving model to ./data/model/MNIST_MLP.keras\n",
      "\n",
      "Epoch 5: val_loss improved from 0.10035 to 0.09087, saving model to ./data/model/MNIST_MLP.keras\n",
      "\n",
      "Epoch 6: val_loss improved from 0.09087 to 0.09060, saving model to ./data/model/MNIST_MLP.keras\n",
      "\n",
      "Epoch 7: val_loss improved from 0.09060 to 0.08352, saving model to ./data/model/MNIST_MLP.keras\n",
      "\n",
      "Epoch 8: val_loss improved from 0.08352 to 0.07987, saving model to ./data/model/MNIST_MLP.keras\n",
      "\n",
      "Epoch 9: val_loss did not improve from 0.07987\n",
      "\n",
      "Epoch 10: val_loss did not improve from 0.07987\n",
      "\n",
      "Epoch 11: val_loss did not improve from 0.07987\n",
      "\n",
      "Epoch 12: val_loss did not improve from 0.07987\n",
      "\n",
      "Epoch 13: val_loss did not improve from 0.07987\n",
      "\n",
      "Epoch 14: val_loss did not improve from 0.07987\n",
      "\n",
      "Epoch 15: val_loss did not improve from 0.07987\n",
      "\n",
      "Epoch 16: val_loss did not improve from 0.07987\n",
      "\n",
      "Epoch 17: val_loss did not improve from 0.07987\n",
      "\n",
      "Epoch 18: val_loss did not improve from 0.07987\n",
      "\u001b[1m313/313\u001b[0m \u001b[32m━━━━━━━━━━━━━━━━━━━━\u001b[0m\u001b[37m\u001b[0m \u001b[1m1s\u001b[0m 2ms/step - accuracy: 0.9780 - loss: 0.0819\n",
      "\n",
      "Test Accuracy: 0.9806\n"
     ]
    }
   ],
   "source": [
    "# 모델을 실행합니다.\n",
    "history = model.fit(\n",
    "    X_train,\n",
    "    y_train,\n",
    "    validation_split=0.25,\n",
    "    epochs=30,\n",
    "    batch_size=200,\n",
    "    verbose=0,\n",
    "    callbacks=[early_stopping_callback, checkpointer],\n",
    ")\n",
    "\n",
    "# 테스트 정확도를 출력합니다.\n",
    "print(\"\\nTest Accuracy: %.4f\" % (model.evaluate(X_test, y_test)[1]))"
   ]
  },
  {
   "cell_type": "code",
   "execution_count": 12,
   "metadata": {},
   "outputs": [
    {
     "data": {
      "image/png": "[encoded data removed]",
      "text/plain": [
       "<Figure size 640x480 with 1 Axes>"
      ]
     },
     "metadata": {},
     "output_type": "display_data"
    }
   ],
   "source": [
    "import matplotlib.pyplot as plt\n",
    "import numpy as np\n",
    "\n",
    "# 검증셋과 학습셋의 오차를 저장합니다.\n",
    "y_vloss = history.history[\"val_loss\"]\n",
    "y_loss = history.history[\"loss\"]\n",
    "\n",
    "# 그래프로 표현해 봅니다.\n",
    "x_len = np.arange(len(y_loss))\n",
    "plt.plot(x_len, y_vloss, marker=\".\", c=\"red\", label=\"Testset_loss\")\n",
    "plt.plot(x_len, y_loss, marker=\".\", c=\"blue\", label=\"Trainset_loss\")\n",
    "\n",
    "# 그래프에 그리드를 주고 레이블을 표시해 보겠습니다.\n",
    "plt.legend(loc=\"upper right\")\n",
    "plt.grid()\n",
    "plt.xlabel(\"epoch\")\n",
    "plt.ylabel(\"loss\")\n",
    "plt.show()"
   ]
  },
  {
   "cell_type": "markdown",
   "metadata": {},
   "source": [
    "## 3. 컨볼루션 신경망(CNN)\n",
    "\n",
    "- 컨볼루션 신경망(Convolutional Neural Network, CNN): 이미지 인식 분야에서 강력한 성능을 보이는 딥러닝 모델\n",
    "    - 이미지 특징 추출을 위해 커널(슬라이딩 윈도)을 도입\n",
    "    - 케라스에서 컨볼루션 층을 추가하는 함수는 `Conv2D()`\n",
    "        - 함수의 인자로 커널의 갯수, 커널의 크기((행, 열), `kernel_size`), 입력층의 크기((행, 열, 색상 또는 흑백), `input_shape`), 사용할 활성화 함수(`activation`)"
   ]
  },
  {
   "cell_type": "markdown",
   "metadata": {},
   "source": [
    "## 4. 맥스 풀링, 드롭아웃, 플래튼\n",
    "\n",
    "- 풀링(pooling): 컨볼루션 층의 결과가 크고 복잡할 때 이를 축소하는 과정, 서프 샘플링(sub sampling)이라고도 함\n",
    "    - 맥스 풀링(max pooling): 정해진 구역 안에서 최대값을 뽑아내는 기법\n",
    "    - 평균 풀링(average pooling): 정해진 구역 안에서 평균값을 뽑아내는 기법\n",
    "    - 케라스의 `MaxPooling2D()` 함수 사용\n",
    "        - `pool_size` 인자는 (행, 열) 형태의 풀링 창 크기를 정의\n",
    "- 드롭아웃(drop out): 은닉층에 배치된 노드 중 일부를 임의로 꺼 과적합을 방지\n",
    "    - 케라스의 `Dropout` 사용\n",
    "- 플래튼(flatten): 컨볼루션 층이나 맥스 풀링 같은 2차원 배열에 대한 층의 결과를 1차원 배열에 대한 층으로 사용하기 위해 배열의 차원을 바꿈\n",
    "    - 케라스의 `Flatten` 사용"
   ]
  },
  {
   "cell_type": "markdown",
   "metadata": {},
   "source": [
    "## 5. 컨볼루션 신경망 실행하기"
   ]
  },
  {
   "cell_type": "code",
   "execution_count": 13,
   "metadata": {},
   "outputs": [],
   "source": [
    "# 데이터를 불러옵니다.\n",
    "(X_train, y_train), (X_test, y_test) = mnist.load_data()\n",
    "X_train = X_train.reshape(X_train.shape[0], 28, 28, 1).astype(\"float32\") / 255\n",
    "X_test = X_test.reshape(X_test.shape[0], 28, 28, 1).astype(\"float32\") / 255\n",
    "y_train = to_categorical(y_train)\n",
    "y_test = to_categorical(y_test)"
   ]
  },
  {
   "cell_type": "code",
   "execution_count": 14,
   "metadata": {},
   "outputs": [
    {
     "name": "stderr",
     "output_type": "stream",
     "text": [
      "c:\\Users\\Hyeonsik\\AppData\\Local\\Programs\\Python\\Python312\\Lib\\site-packages\\keras\\src\\layers\\convolutional\\base_conv.py:107: UserWarning: Do not pass an `input_shape`/`input_dim` argument to a layer. When using Sequential models, prefer using an `Input(shape)` object as the first layer in the model instead.\n",
      "  super().__init__(activity_regularizer=activity_regularizer, **kwargs)\n"
     ]
    }
   ],
   "source": [
    "from tensorflow.keras.layers import Conv2D, MaxPooling2D, Dropout, Flatten\n",
    "\n",
    "# 컨볼루션 신경망의 설정\n",
    "model = Sequential()\n",
    "model.add(Conv2D(32, kernel_size=(3, 3), input_shape=(28, 28, 1), activation=\"relu\"))\n",
    "model.add(Conv2D(64, (3, 3), activation=\"relu\"))\n",
    "model.add(MaxPooling2D(pool_size=(2, 2)))\n",
    "model.add(Dropout(0.25))\n",
    "model.add(Flatten())\n",
    "model.add(Dense(128, activation=\"relu\"))\n",
    "model.add(Dropout(0.5))\n",
    "model.add(Dense(10, activation=\"softmax\"))\n",
    "\n",
    "# 모델 실행 옵션을 설정합니다.\n",
    "model.compile(loss=\"categorical_crossentropy\", optimizer=\"adam\", metrics=[\"accuracy\"])"
   ]
  },
  {
   "cell_type": "code",
   "execution_count": 15,
   "metadata": {},
   "outputs": [],
   "source": [
    "# 모델 최적화를 위한 설정 구간입니다.\n",
    "modelpath = \"./data/model/MNIST_CNN.keras\"\n",
    "checkpointer = ModelCheckpoint(\n",
    "    filepath=modelpath, monitor=\"val_loss\", verbose=1, save_best_only=True\n",
    ")\n",
    "early_stopping_callback = EarlyStopping(monitor=\"val_loss\", patience=10)"
   ]
  },
  {
   "cell_type": "code",
   "execution_count": 16,
   "metadata": {},
   "outputs": [
    {
     "name": "stdout",
     "output_type": "stream",
     "text": [
      "\n",
      "Epoch 1: val_loss improved from inf to 0.08009, saving model to ./data/model/MNIST_CNN.keras\n",
      "\n",
      "Epoch 2: val_loss improved from 0.08009 to 0.05875, saving model to ./data/model/MNIST_CNN.keras\n",
      "\n",
      "Epoch 3: val_loss improved from 0.05875 to 0.05481, saving model to ./data/model/MNIST_CNN.keras\n",
      "\n",
      "Epoch 4: val_loss improved from 0.05481 to 0.04507, saving model to ./data/model/MNIST_CNN.keras\n",
      "\n",
      "Epoch 5: val_loss improved from 0.04507 to 0.04507, saving model to ./data/model/MNIST_CNN.keras\n",
      "\n",
      "Epoch 6: val_loss improved from 0.04507 to 0.04114, saving model to ./data/model/MNIST_CNN.keras\n",
      "\n",
      "Epoch 7: val_loss improved from 0.04114 to 0.03953, saving model to ./data/model/MNIST_CNN.keras\n",
      "\n",
      "Epoch 8: val_loss did not improve from 0.03953\n",
      "\n",
      "Epoch 9: val_loss improved from 0.03953 to 0.03796, saving model to ./data/model/MNIST_CNN.keras\n",
      "\n",
      "Epoch 10: val_loss did not improve from 0.03796\n",
      "\n",
      "Epoch 11: val_loss did not improve from 0.03796\n",
      "\n",
      "Epoch 12: val_loss did not improve from 0.03796\n",
      "\n",
      "Epoch 13: val_loss did not improve from 0.03796\n",
      "\n",
      "Epoch 14: val_loss did not improve from 0.03796\n",
      "\n",
      "Epoch 15: val_loss did not improve from 0.03796\n",
      "\n",
      "Epoch 16: val_loss did not improve from 0.03796\n",
      "\n",
      "Epoch 17: val_loss did not improve from 0.03796\n",
      "\n",
      "Epoch 18: val_loss did not improve from 0.03796\n",
      "\n",
      "Epoch 19: val_loss did not improve from 0.03796\n",
      "\u001b[1m313/313\u001b[0m \u001b[32m━━━━━━━━━━━━━━━━━━━━\u001b[0m\u001b[37m\u001b[0m \u001b[1m3s\u001b[0m 8ms/step - accuracy: 0.9900 - loss: 0.0391\n",
      "\n",
      "Test Accuracy: 0.9924\n"
     ]
    }
   ],
   "source": [
    "# 모델을 실행합니다.\n",
    "history = model.fit(\n",
    "    X_train,\n",
    "    y_train,\n",
    "    validation_split=0.25,\n",
    "    epochs=30,\n",
    "    batch_size=200,\n",
    "    verbose=0,\n",
    "    callbacks=[early_stopping_callback, checkpointer],\n",
    ")\n",
    "\n",
    "# 테스트 정확도를 출력합니다.\n",
    "print(\"\\nTest Accuracy: %.4f\" % (model.evaluate(X_test, y_test)[1]))"
   ]
  },
  {
   "cell_type": "code",
   "execution_count": 17,
   "metadata": {},
   "outputs": [
    {
     "data": {
      "image/png": "[encoded data removed]",
      "text/plain": [
       "<Figure size 640x480 with 1 Axes>"
      ]
     },
     "metadata": {},
     "output_type": "display_data"
    }
   ],
   "source": [
    "# 검증셋과 학습셋의 오차를 저장합니다.\n",
    "y_vloss = history.history[\"val_loss\"]\n",
    "y_loss = history.history[\"loss\"]\n",
    "\n",
    "# 그래프로 표현해 봅니다.\n",
    "x_len = np.arange(len(y_loss))\n",
    "plt.plot(x_len, y_vloss, marker=\".\", c=\"red\", label=\"Testset_loss\")\n",
    "plt.plot(x_len, y_loss, marker=\".\", c=\"blue\", label=\"Trainset_loss\")\n",
    "\n",
    "# 그래프에 그리드를 주고 레이블을 표시해 보겠습니다.\n",
    "plt.legend(loc=\"upper right\")\n",
    "plt.grid()\n",
    "plt.xlabel(\"epoch\")\n",
    "plt.ylabel(\"loss\")\n",
    "plt.show()"
   ]
  }
 ],
 "metadata": {
  "kernelspec": {
   "display_name": "Python 3",
   "language": "python",
   "name": "python3"
  },
  "language_info": {
   "codemirror_mode": {
    "name": "ipython",
    "version": 3
   },
   "file_extension": ".py",
   "mimetype": "text/x-python",
   "name": "python",
   "nbconvert_exporter": "python",
   "pygments_lexer": "ipython3",
   "version": "3.12.4"
  }
 },
 "nbformat": 4,
 "nbformat_minor": 2
}
