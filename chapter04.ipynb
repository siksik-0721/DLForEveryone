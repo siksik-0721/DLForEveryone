{
 "cells": [
  {
   "cell_type": "markdown",
   "metadata": {},
   "source": [
    "# 4장 가장 훌륭한 예측선"
   ]
  },
  {
   "cell_type": "markdown",
   "metadata": {},
   "source": [
    "## 1. 선형 회귀의 정의\n",
    "\n",
    "- $x$ 값이 변함에 따라 $y$ 값도 변한다\n",
    "    - $x$: 독립 변수\n",
    "    - $y$: 종속 변수\n",
    "- 선형 회귀(liner regression): 독립 변수를 사용해 종속 변수의 움직임을 예측하고 설명하는 작업\n",
    "    - 단순 선형 회귀(simple linear regression): 독립 변수 하나로 종속 변수를 설명\n",
    "    - 다중 선형 회귀(multiple linear regression): 여러 독립 변수로 종속 변수를 설명"
   ]
  },
  {
   "cell_type": "markdown",
   "metadata": {},
   "source": [
    "## 2. 가장 훌륭한 예측선이란?\n",
    "\n",
    "- 선형 회귀는 독립 변수와 종속 변수의 관계를 가장 잘 나타내는 선을 그리는 과정\n",
    "    - 독립 변수가 $x$, 종속 변수가 $y$일 때, $y = ax + b$로 선을 표현\n",
    "    - 직선을 훌륭하게 그으려면 기울기 $a$와 $y$절편 $b$ 값을 정확히 예측해야 함\n",
    "    - 정확한 직선을 그었다면, $x$ 값을 대입하여 $y$ 값을 구할 수 있음\n",
    "- 머신 러닝의 예측은 기존 데이터로 선을 예측한 후, 아직 답이 나오지 않은 무언가를 선에 대입해 구하는 과정"
   ]
  },
  {
   "cell_type": "markdown",
   "metadata": {},
   "source": [
    "## 3. 최소 제곱법\n",
    "\n",
    "- 최소 제곱법(method of least squares)\n",
    "    - 실제 좌표값과의 오차가 가장 적은 직선을 구하는 공식\n",
    "    - $a = \\frac{(x\\,-\\,x의\\,평균)(y\\,-\\,y의\\,평균)의\\,합}{(x\\,-\\,x의\\,평균)^2의\\,합}$\n",
    "    - $b = y의\\,평균\\,-\\,(x의\\,평균\\times기울기\\,a)$"
   ]
  },
  {
   "cell_type": "markdown",
   "metadata": {},
   "source": [
    "## 4. 파이썬 코딩으로 확인하는 최소 제곱"
   ]
  },
  {
   "cell_type": "code",
   "execution_count": 1,
   "metadata": {},
   "outputs": [],
   "source": [
    "import numpy as np"
   ]
  },
  {
   "cell_type": "code",
   "execution_count": 2,
   "metadata": {},
   "outputs": [],
   "source": [
    "# 공부한 시간과 점수를 각각 x, y라는 이름의 넘파이 배열로 만듭니다.\n",
    "x = np.array([2, 4, 6, 8])\n",
    "y = np.array([81, 93, 91, 97])"
   ]
  },
  {
   "cell_type": "code",
   "execution_count": 3,
   "metadata": {},
   "outputs": [],
   "source": [
    "# x의 평균값을 구합니다.\n",
    "mx = np.mean(x)\n",
    "# y의 평균값을 구합니다.\n",
    "my = np.mean(y)"
   ]
  },
  {
   "cell_type": "code",
   "execution_count": 4,
   "metadata": {},
   "outputs": [
    {
     "name": "stdout",
     "output_type": "stream",
     "text": [
      "x의 평균값: 5.0\n",
      "y의 평균값: 90.5\n"
     ]
    }
   ],
   "source": [
    "# 출력으로 확인합니다.\n",
    "print(\"x의 평균값:\", mx)\n",
    "print(\"y의 평균값:\", my)"
   ]
  },
  {
   "cell_type": "code",
   "execution_count": 5,
   "metadata": {},
   "outputs": [],
   "source": [
    "# 기울기 공식의 분모 부분입니다.\n",
    "divisor = sum([(i - mx) ** 2 for i in x])"
   ]
  },
  {
   "cell_type": "code",
   "execution_count": 6,
   "metadata": {},
   "outputs": [],
   "source": [
    "# 기울기 공식의 분자 부분입니다.\n",
    "def top(x, mx, y, my):\n",
    "    d = 0\n",
    "    for i in range(len(x)):\n",
    "        d += (x[i] - mx) * (y[i] - my)\n",
    "    return d\n",
    "\n",
    "\n",
    "dividend = top(x, mx, y, my)"
   ]
  },
  {
   "cell_type": "code",
   "execution_count": 7,
   "metadata": {},
   "outputs": [
    {
     "name": "stdout",
     "output_type": "stream",
     "text": [
      "분모: 20.0\n",
      "분자: 46.0\n"
     ]
    }
   ],
   "source": [
    "# 출력으로 확인합니다.\n",
    "print(\"분모:\", divisor)\n",
    "print(\"분자:\", dividend)"
   ]
  },
  {
   "cell_type": "code",
   "execution_count": 8,
   "metadata": {},
   "outputs": [],
   "source": [
    "# 기울기 a를 구하는 공식입니다.\n",
    "a = dividend / divisor"
   ]
  },
  {
   "cell_type": "code",
   "execution_count": 9,
   "metadata": {},
   "outputs": [],
   "source": [
    "# y 절편 b를 구하는 공식입니다.\n",
    "b = my - (mx * a)"
   ]
  },
  {
   "cell_type": "code",
   "execution_count": 10,
   "metadata": {},
   "outputs": [
    {
     "name": "stdout",
     "output_type": "stream",
     "text": [
      "기울기 a = 2.3\n",
      "y 절편 b = 79.0\n"
     ]
    }
   ],
   "source": [
    "# 출력으로 확인합니다.\n",
    "print(\"기울기 a =\", a)\n",
    "print(\"y 절편 b =\", b)"
   ]
  },
  {
   "cell_type": "markdown",
   "metadata": {},
   "source": [
    "## 5. 평균 제곱 오차\n",
    "\n",
    "- 최소 제곱법은 여러 개의 독립 변수를 처리하기에 무리가 있음\n",
    "- '일단 그리고 조금씩 수정해 나가기' 방식\n",
    "    - 가설을 하나 세운 후(일단 선을 그린 후) 주어진 요건을 충족하는지 판단해서 조금씩 변경\n",
    "    - 변경한 선이 먼저 그린 선보다 좋은지 나쁜지 판단 필요 \n",
    "    - 즉, 오차를 계산하여 오차가 작은 쪽으로 바꾸는 알고리즘 필요\n",
    "- 평균 제곱 오차(Mean Square Error, MSE)\n",
    "    - 오차를 구할 때 가장 많이 사용\n",
    "    - 오차에 양수와 음수가 섞여 있어 단순히 더해 버리면 합이 0이 될 수도 있음\n",
    "    - 부호를 없애 이를 극복하기 위해 오차 값을 제곱하여 사용\n",
    "    - $평균\\,제곱\\,오차(MSE)\\,=\\,\\frac{1}{n}\\sum(y_{i}\\,-\\,\\hat{y}_{i})^2$\n",
    "- 선형 회귀: 임의의 직선을 그어 이에 대한 평균 제곱 오차를 구하고, 이 값을 가장 작게 만들어주도록 찾아가는 작업"
   ]
  },
  {
   "cell_type": "markdown",
   "metadata": {},
   "source": [
    "## 6. 파이썬 코딩으로 확인하는 평균 제곱 오차"
   ]
  },
  {
   "cell_type": "code",
   "execution_count": 11,
   "metadata": {},
   "outputs": [],
   "source": [
    "# 가상의 기울기 a와 y 절편 b를 정합니다.\n",
    "fake_a = 3\n",
    "fake_b = 76\n",
    "\n",
    "# 공부 시간 x와 성적 y의 넘파이 배열을 만듭니다.\n",
    "x = np.array([2, 4, 6, 8])\n",
    "y = np.array([81, 93, 91, 97])\n",
    "\n",
    "\n",
    "# y = ax + b에 가상의 a 값과 b 값을 대입한 결과를 출력하는 함수입니다.\n",
    "def predict(x):\n",
    "    return fake_a * x + fake_b"
   ]
  },
  {
   "cell_type": "code",
   "execution_count": 12,
   "metadata": {},
   "outputs": [],
   "source": [
    "# 예측 값이 들어갈 빈 리스트를 만듭니다.\n",
    "predict_result = []"
   ]
  },
  {
   "cell_type": "code",
   "execution_count": 13,
   "metadata": {},
   "outputs": [
    {
     "name": "stdout",
     "output_type": "stream",
     "text": [
      "공부시간=2, 실제점수=81, 예측점수=82\n",
      "공부시간=4, 실제점수=93, 예측점수=88\n",
      "공부시간=6, 실제점수=91, 예측점수=94\n",
      "공부시간=8, 실제점수=97, 예측점수=100\n"
     ]
    }
   ],
   "source": [
    "# 모든 x 값을 한 번씩 대입해 predict_result 리스트를 완성합니다.\n",
    "for i in range(len(x)):\n",
    "    predict_result.append(predict(x[i]))\n",
    "    print(\"공부시간=%.f, 실제점수=%.f, 예측점수=%.f\" % (x[i], y[i], predict(x[i])))"
   ]
  },
  {
   "cell_type": "code",
   "execution_count": 14,
   "metadata": {},
   "outputs": [],
   "source": [
    "# 평균 제곱 오차 함수를 각 y 값에 대입해 최종 값을 구하는 함수입니다.\n",
    "n = len(x)\n",
    "\n",
    "\n",
    "def mse(y, y_pred):\n",
    "    return (1 / n) * sum((y - y_pred) ** 2)"
   ]
  },
  {
   "cell_type": "code",
   "execution_count": 15,
   "metadata": {},
   "outputs": [
    {
     "name": "stdout",
     "output_type": "stream",
     "text": [
      "평균 제곱 오차: 11.0\n"
     ]
    }
   ],
   "source": [
    "# 평균 제곱 오차 값을 출력합니다.\n",
    "print(\"평균 제곱 오차: \" + str(mse(y, predict_result)))"
   ]
  }
 ],
 "metadata": {
  "kernelspec": {
   "display_name": "Python 3",
   "language": "python",
   "name": "python3"
  },
  "language_info": {
   "codemirror_mode": {
    "name": "ipython",
    "version": 3
   },
   "file_extension": ".py",
   "mimetype": "text/x-python",
   "name": "python",
   "nbconvert_exporter": "python",
   "pygments_lexer": "ipython3",
   "version": "3.12.4"
  }
 },
 "nbformat": 4,
 "nbformat_minor": 2
}
